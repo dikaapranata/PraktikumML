{
  "nbformat": 4,
  "nbformat_minor": 0,
  "metadata": {
    "colab": {
      "provenance": [],
      "include_colab_link": true
    },
    "kernelspec": {
      "name": "python3",
      "display_name": "Python 3"
    },
    "language_info": {
      "name": "python"
    }
  },
  "cells": [
    {
      "cell_type": "markdown",
      "metadata": {
        "id": "view-in-github",
        "colab_type": "text"
      },
      "source": [
        "<a href=\"https://colab.research.google.com/github/dikaapranata/PraktikumML/blob/main/PraktikumMachineLearning_2.ipynb\" target=\"_parent\"><img src=\"https://colab.research.google.com/assets/colab-badge.svg\" alt=\"Open In Colab\"/></a>"
      ]
    },
    {
      "cell_type": "markdown",
      "metadata": {
        "id": "dDJHWMVvp88F"
      },
      "source": [
        "#Tugas Praktikum 2 Machine Learning\n",
        "Nama: Handhika Pranata Kusuma Wardana<br>\n",
        "NIM: 24060121140112<br>\n",
        "LAB: C <br>\n",
        "\n",
        "Dataset: Breast Cancer Wisconsin (Original) Data Set<br>\n",
        "URL UCI: https://archive.ics.uci.edu/ml/datasets/Breast+Cancer+Wisconsin+%28Original%29<br>\n",
        "URL Raw: https://raw.githubusercontent.com/dikaapranata/PraktikumML/main/breast-cancer-wisconsin.csv\n",
        "\n"
      ]
    },
    {
      "cell_type": "markdown",
      "metadata": {
        "id": "q5aj0AAeT5-h"
      },
      "source": [
        "##Import Library"
      ]
    },
    {
      "cell_type": "code",
      "metadata": {
        "id": "6JDy0-NXqYMZ"
      },
      "source": [
        "import pandas as pd\n",
        "import seaborn as sns\n",
        "from sklearn import model_selection\n",
        "from sklearn.neighbors import KNeighborsClassifier\n",
        "from sklearn.naive_bayes import GaussianNB\n",
        "from sklearn.svm import SVC\n",
        "from sklearn.tree import DecisionTreeClassifier\n",
        "from sklearn.metrics import accuracy_score\n",
        "from sklearn.metrics import confusion_matrix\n",
        "from sklearn.metrics import classification_report"
      ],
      "execution_count": null,
      "outputs": []
    },
    {
      "cell_type": "markdown",
      "metadata": {
        "id": "zoGLyCLmT7jL"
      },
      "source": [
        "##Import Dataset"
      ]
    },
    {
      "cell_type": "code",
      "metadata": {
        "colab": {
          "base_uri": "https://localhost:8080/",
          "height": 226
        },
        "id": "DtiNIWq4pLWr",
        "outputId": "e61ef3d7-8c3b-4d2f-d470-115923ce08de"
      },
      "source": [
        "url = \"https://raw.githubusercontent.com/dikaapranata/PraktikumML/main/breast-cancer-wisconsin.csv\"\n",
        "names = ['id', 'clump_thickness', 'uni_cell_size', 'uni_cell_shape', 'margin_adhesion', 'one_cell_size', 'bare_nuclei', 'bland_chromatin', 'nucleoli', 'mitoses', 'class']\n",
        "df = pd.read_csv(url, names=names)\n",
        "\n",
        "df.head()"
      ],
      "execution_count": null,
      "outputs": [
        {
          "output_type": "execute_result",
          "data": {
            "text/plain": [
              "        id  clump_thickness  uni_cell_size  uni_cell_shape  margin_adhesion  \\\n",
              "0  1000025                5              1               1                1   \n",
              "1  1002945                5              4               4                5   \n",
              "2  1015425                3              1               1                1   \n",
              "3  1016277                6              8               8                1   \n",
              "4  1017023                4              1               1                3   \n",
              "\n",
              "   one_cell_size bare_nuclei  bland_chromatin  nucleoli  mitoses  class  \n",
              "0              2           1                3         1        1      2  \n",
              "1              7          10                3         2        1      2  \n",
              "2              2           2                3         1        1      2  \n",
              "3              3           4                3         7        1      2  \n",
              "4              2           1                3         1        1      2  "
            ],
            "text/html": [
              "\n",
              "  <div id=\"df-f34517e1-b3cf-4c39-80c5-0ce942a0ccf4\" class=\"colab-df-container\">\n",
              "    <div>\n",
              "<style scoped>\n",
              "    .dataframe tbody tr th:only-of-type {\n",
              "        vertical-align: middle;\n",
              "    }\n",
              "\n",
              "    .dataframe tbody tr th {\n",
              "        vertical-align: top;\n",
              "    }\n",
              "\n",
              "    .dataframe thead th {\n",
              "        text-align: right;\n",
              "    }\n",
              "</style>\n",
              "<table border=\"1\" class=\"dataframe\">\n",
              "  <thead>\n",
              "    <tr style=\"text-align: right;\">\n",
              "      <th></th>\n",
              "      <th>id</th>\n",
              "      <th>clump_thickness</th>\n",
              "      <th>uni_cell_size</th>\n",
              "      <th>uni_cell_shape</th>\n",
              "      <th>margin_adhesion</th>\n",
              "      <th>one_cell_size</th>\n",
              "      <th>bare_nuclei</th>\n",
              "      <th>bland_chromatin</th>\n",
              "      <th>nucleoli</th>\n",
              "      <th>mitoses</th>\n",
              "      <th>class</th>\n",
              "    </tr>\n",
              "  </thead>\n",
              "  <tbody>\n",
              "    <tr>\n",
              "      <th>0</th>\n",
              "      <td>1000025</td>\n",
              "      <td>5</td>\n",
              "      <td>1</td>\n",
              "      <td>1</td>\n",
              "      <td>1</td>\n",
              "      <td>2</td>\n",
              "      <td>1</td>\n",
              "      <td>3</td>\n",
              "      <td>1</td>\n",
              "      <td>1</td>\n",
              "      <td>2</td>\n",
              "    </tr>\n",
              "    <tr>\n",
              "      <th>1</th>\n",
              "      <td>1002945</td>\n",
              "      <td>5</td>\n",
              "      <td>4</td>\n",
              "      <td>4</td>\n",
              "      <td>5</td>\n",
              "      <td>7</td>\n",
              "      <td>10</td>\n",
              "      <td>3</td>\n",
              "      <td>2</td>\n",
              "      <td>1</td>\n",
              "      <td>2</td>\n",
              "    </tr>\n",
              "    <tr>\n",
              "      <th>2</th>\n",
              "      <td>1015425</td>\n",
              "      <td>3</td>\n",
              "      <td>1</td>\n",
              "      <td>1</td>\n",
              "      <td>1</td>\n",
              "      <td>2</td>\n",
              "      <td>2</td>\n",
              "      <td>3</td>\n",
              "      <td>1</td>\n",
              "      <td>1</td>\n",
              "      <td>2</td>\n",
              "    </tr>\n",
              "    <tr>\n",
              "      <th>3</th>\n",
              "      <td>1016277</td>\n",
              "      <td>6</td>\n",
              "      <td>8</td>\n",
              "      <td>8</td>\n",
              "      <td>1</td>\n",
              "      <td>3</td>\n",
              "      <td>4</td>\n",
              "      <td>3</td>\n",
              "      <td>7</td>\n",
              "      <td>1</td>\n",
              "      <td>2</td>\n",
              "    </tr>\n",
              "    <tr>\n",
              "      <th>4</th>\n",
              "      <td>1017023</td>\n",
              "      <td>4</td>\n",
              "      <td>1</td>\n",
              "      <td>1</td>\n",
              "      <td>3</td>\n",
              "      <td>2</td>\n",
              "      <td>1</td>\n",
              "      <td>3</td>\n",
              "      <td>1</td>\n",
              "      <td>1</td>\n",
              "      <td>2</td>\n",
              "    </tr>\n",
              "  </tbody>\n",
              "</table>\n",
              "</div>\n",
              "    <div class=\"colab-df-buttons\">\n",
              "\n",
              "  <div class=\"colab-df-container\">\n",
              "    <button class=\"colab-df-convert\" onclick=\"convertToInteractive('df-f34517e1-b3cf-4c39-80c5-0ce942a0ccf4')\"\n",
              "            title=\"Convert this dataframe to an interactive table.\"\n",
              "            style=\"display:none;\">\n",
              "\n",
              "  <svg xmlns=\"http://www.w3.org/2000/svg\" height=\"24px\" viewBox=\"0 -960 960 960\">\n",
              "    <path d=\"M120-120v-720h720v720H120Zm60-500h600v-160H180v160Zm220 220h160v-160H400v160Zm0 220h160v-160H400v160ZM180-400h160v-160H180v160Zm440 0h160v-160H620v160ZM180-180h160v-160H180v160Zm440 0h160v-160H620v160Z\"/>\n",
              "  </svg>\n",
              "    </button>\n",
              "\n",
              "  <style>\n",
              "    .colab-df-container {\n",
              "      display:flex;\n",
              "      gap: 12px;\n",
              "    }\n",
              "\n",
              "    .colab-df-convert {\n",
              "      background-color: #E8F0FE;\n",
              "      border: none;\n",
              "      border-radius: 50%;\n",
              "      cursor: pointer;\n",
              "      display: none;\n",
              "      fill: #1967D2;\n",
              "      height: 32px;\n",
              "      padding: 0 0 0 0;\n",
              "      width: 32px;\n",
              "    }\n",
              "\n",
              "    .colab-df-convert:hover {\n",
              "      background-color: #E2EBFA;\n",
              "      box-shadow: 0px 1px 2px rgba(60, 64, 67, 0.3), 0px 1px 3px 1px rgba(60, 64, 67, 0.15);\n",
              "      fill: #174EA6;\n",
              "    }\n",
              "\n",
              "    .colab-df-buttons div {\n",
              "      margin-bottom: 4px;\n",
              "    }\n",
              "\n",
              "    [theme=dark] .colab-df-convert {\n",
              "      background-color: #3B4455;\n",
              "      fill: #D2E3FC;\n",
              "    }\n",
              "\n",
              "    [theme=dark] .colab-df-convert:hover {\n",
              "      background-color: #434B5C;\n",
              "      box-shadow: 0px 1px 3px 1px rgba(0, 0, 0, 0.15);\n",
              "      filter: drop-shadow(0px 1px 2px rgba(0, 0, 0, 0.3));\n",
              "      fill: #FFFFFF;\n",
              "    }\n",
              "  </style>\n",
              "\n",
              "    <script>\n",
              "      const buttonEl =\n",
              "        document.querySelector('#df-f34517e1-b3cf-4c39-80c5-0ce942a0ccf4 button.colab-df-convert');\n",
              "      buttonEl.style.display =\n",
              "        google.colab.kernel.accessAllowed ? 'block' : 'none';\n",
              "\n",
              "      async function convertToInteractive(key) {\n",
              "        const element = document.querySelector('#df-f34517e1-b3cf-4c39-80c5-0ce942a0ccf4');\n",
              "        const dataTable =\n",
              "          await google.colab.kernel.invokeFunction('convertToInteractive',\n",
              "                                                    [key], {});\n",
              "        if (!dataTable) return;\n",
              "\n",
              "        const docLinkHtml = 'Like what you see? Visit the ' +\n",
              "          '<a target=\"_blank\" href=https://colab.research.google.com/notebooks/data_table.ipynb>data table notebook</a>'\n",
              "          + ' to learn more about interactive tables.';\n",
              "        element.innerHTML = '';\n",
              "        dataTable['output_type'] = 'display_data';\n",
              "        await google.colab.output.renderOutput(dataTable, element);\n",
              "        const docLink = document.createElement('div');\n",
              "        docLink.innerHTML = docLinkHtml;\n",
              "        element.appendChild(docLink);\n",
              "      }\n",
              "    </script>\n",
              "  </div>\n",
              "\n",
              "\n",
              "<div id=\"df-eff73f80-fb65-437a-b9bb-91157aae2c72\">\n",
              "  <button class=\"colab-df-quickchart\" onclick=\"quickchart('df-eff73f80-fb65-437a-b9bb-91157aae2c72')\"\n",
              "            title=\"Suggest charts.\"\n",
              "            style=\"display:none;\">\n",
              "\n",
              "<svg xmlns=\"http://www.w3.org/2000/svg\" height=\"24px\"viewBox=\"0 0 24 24\"\n",
              "     width=\"24px\">\n",
              "    <g>\n",
              "        <path d=\"M19 3H5c-1.1 0-2 .9-2 2v14c0 1.1.9 2 2 2h14c1.1 0 2-.9 2-2V5c0-1.1-.9-2-2-2zM9 17H7v-7h2v7zm4 0h-2V7h2v10zm4 0h-2v-4h2v4z\"/>\n",
              "    </g>\n",
              "</svg>\n",
              "  </button>\n",
              "\n",
              "<style>\n",
              "  .colab-df-quickchart {\n",
              "      --bg-color: #E8F0FE;\n",
              "      --fill-color: #1967D2;\n",
              "      --hover-bg-color: #E2EBFA;\n",
              "      --hover-fill-color: #174EA6;\n",
              "      --disabled-fill-color: #AAA;\n",
              "      --disabled-bg-color: #DDD;\n",
              "  }\n",
              "\n",
              "  [theme=dark] .colab-df-quickchart {\n",
              "      --bg-color: #3B4455;\n",
              "      --fill-color: #D2E3FC;\n",
              "      --hover-bg-color: #434B5C;\n",
              "      --hover-fill-color: #FFFFFF;\n",
              "      --disabled-bg-color: #3B4455;\n",
              "      --disabled-fill-color: #666;\n",
              "  }\n",
              "\n",
              "  .colab-df-quickchart {\n",
              "    background-color: var(--bg-color);\n",
              "    border: none;\n",
              "    border-radius: 50%;\n",
              "    cursor: pointer;\n",
              "    display: none;\n",
              "    fill: var(--fill-color);\n",
              "    height: 32px;\n",
              "    padding: 0;\n",
              "    width: 32px;\n",
              "  }\n",
              "\n",
              "  .colab-df-quickchart:hover {\n",
              "    background-color: var(--hover-bg-color);\n",
              "    box-shadow: 0 1px 2px rgba(60, 64, 67, 0.3), 0 1px 3px 1px rgba(60, 64, 67, 0.15);\n",
              "    fill: var(--button-hover-fill-color);\n",
              "  }\n",
              "\n",
              "  .colab-df-quickchart-complete:disabled,\n",
              "  .colab-df-quickchart-complete:disabled:hover {\n",
              "    background-color: var(--disabled-bg-color);\n",
              "    fill: var(--disabled-fill-color);\n",
              "    box-shadow: none;\n",
              "  }\n",
              "\n",
              "  .colab-df-spinner {\n",
              "    border: 2px solid var(--fill-color);\n",
              "    border-color: transparent;\n",
              "    border-bottom-color: var(--fill-color);\n",
              "    animation:\n",
              "      spin 1s steps(1) infinite;\n",
              "  }\n",
              "\n",
              "  @keyframes spin {\n",
              "    0% {\n",
              "      border-color: transparent;\n",
              "      border-bottom-color: var(--fill-color);\n",
              "      border-left-color: var(--fill-color);\n",
              "    }\n",
              "    20% {\n",
              "      border-color: transparent;\n",
              "      border-left-color: var(--fill-color);\n",
              "      border-top-color: var(--fill-color);\n",
              "    }\n",
              "    30% {\n",
              "      border-color: transparent;\n",
              "      border-left-color: var(--fill-color);\n",
              "      border-top-color: var(--fill-color);\n",
              "      border-right-color: var(--fill-color);\n",
              "    }\n",
              "    40% {\n",
              "      border-color: transparent;\n",
              "      border-right-color: var(--fill-color);\n",
              "      border-top-color: var(--fill-color);\n",
              "    }\n",
              "    60% {\n",
              "      border-color: transparent;\n",
              "      border-right-color: var(--fill-color);\n",
              "    }\n",
              "    80% {\n",
              "      border-color: transparent;\n",
              "      border-right-color: var(--fill-color);\n",
              "      border-bottom-color: var(--fill-color);\n",
              "    }\n",
              "    90% {\n",
              "      border-color: transparent;\n",
              "      border-bottom-color: var(--fill-color);\n",
              "    }\n",
              "  }\n",
              "</style>\n",
              "\n",
              "  <script>\n",
              "    async function quickchart(key) {\n",
              "      const quickchartButtonEl =\n",
              "        document.querySelector('#' + key + ' button');\n",
              "      quickchartButtonEl.disabled = true;  // To prevent multiple clicks.\n",
              "      quickchartButtonEl.classList.add('colab-df-spinner');\n",
              "      try {\n",
              "        const charts = await google.colab.kernel.invokeFunction(\n",
              "            'suggestCharts', [key], {});\n",
              "      } catch (error) {\n",
              "        console.error('Error during call to suggestCharts:', error);\n",
              "      }\n",
              "      quickchartButtonEl.classList.remove('colab-df-spinner');\n",
              "      quickchartButtonEl.classList.add('colab-df-quickchart-complete');\n",
              "    }\n",
              "    (() => {\n",
              "      let quickchartButtonEl =\n",
              "        document.querySelector('#df-eff73f80-fb65-437a-b9bb-91157aae2c72 button');\n",
              "      quickchartButtonEl.style.display =\n",
              "        google.colab.kernel.accessAllowed ? 'block' : 'none';\n",
              "    })();\n",
              "  </script>\n",
              "</div>\n",
              "    </div>\n",
              "  </div>\n"
            ]
          },
          "metadata": {},
          "execution_count": 2
        }
      ]
    },
    {
      "cell_type": "markdown",
      "metadata": {
        "id": "aJ4m_DJ5Tp-O"
      },
      "source": [
        "Terdapat 2 kelas yaitu angka **2** untuk benign dan **4** untuk malignant."
      ]
    },
    {
      "cell_type": "code",
      "metadata": {
        "colab": {
          "base_uri": "https://localhost:8080/"
        },
        "id": "cGd40xi4bjE-",
        "outputId": "fd75d51b-5824-49bc-9248-e3d7d9c8fa3c"
      },
      "source": [
        "df.info()"
      ],
      "execution_count": null,
      "outputs": [
        {
          "output_type": "stream",
          "name": "stdout",
          "text": [
            "<class 'pandas.core.frame.DataFrame'>\n",
            "RangeIndex: 699 entries, 0 to 698\n",
            "Data columns (total 11 columns):\n",
            " #   Column           Non-Null Count  Dtype \n",
            "---  ------           --------------  ----- \n",
            " 0   id               699 non-null    int64 \n",
            " 1   clump_thickness  699 non-null    int64 \n",
            " 2   uni_cell_size    699 non-null    int64 \n",
            " 3   uni_cell_shape   699 non-null    int64 \n",
            " 4   margin_adhesion  699 non-null    int64 \n",
            " 5   one_cell_size    699 non-null    int64 \n",
            " 6   bare_nuclei      699 non-null    object\n",
            " 7   bland_chromatin  699 non-null    int64 \n",
            " 8   nucleoli         699 non-null    int64 \n",
            " 9   mitoses          699 non-null    int64 \n",
            " 10  class            699 non-null    int64 \n",
            "dtypes: int64(10), object(1)\n",
            "memory usage: 60.2+ KB\n"
          ]
        }
      ]
    },
    {
      "cell_type": "markdown",
      "metadata": {
        "id": "UpIY1xc9UAaC"
      },
      "source": [
        "Setelah dianalisis, kolom bare_nuclei ternyata bertipe object. Hal ini disebabkan karena adanya string '?' pada kolom tersebut. Untuk menyamakan tipe data, value '?' akan diubah menjadi nilai terendah pada range yang telah ditentukan pada dokumentasi dataset, yakni 1."
      ]
    },
    {
      "cell_type": "markdown",
      "metadata": {
        "id": "H4V3U3lxT_hE"
      },
      "source": [
        "##Preprocessing Data"
      ]
    },
    {
      "cell_type": "code",
      "metadata": {
        "id": "w57L7cOVvtKb"
      },
      "source": [
        "# Drop kolom ID\n",
        "df.drop('id', axis=1, inplace=True)"
      ],
      "execution_count": null,
      "outputs": []
    },
    {
      "cell_type": "markdown",
      "metadata": {
        "id": "tvuXyOdHUgbC"
      },
      "source": [
        "Kolom ID tidak dibutuhkan."
      ]
    },
    {
      "cell_type": "code",
      "metadata": {
        "id": "A-GXYrilbqVc"
      },
      "source": [
        "# Replace value '?' dengan angka 1\n",
        "df.replace('?', 1, inplace=True)"
      ],
      "execution_count": null,
      "outputs": []
    },
    {
      "cell_type": "code",
      "metadata": {
        "id": "2TIasYkHNZkk"
      },
      "source": [
        "# Mengubah tipe data menjadi int64\n",
        "df = df.astype(int)"
      ],
      "execution_count": null,
      "outputs": []
    },
    {
      "cell_type": "code",
      "metadata": {
        "colab": {
          "base_uri": "https://localhost:8080/"
        },
        "id": "luqKVsNAbt38",
        "outputId": "48a6e1b9-443a-4eff-a490-4efcc1fb4741"
      },
      "source": [
        "df.info()"
      ],
      "execution_count": null,
      "outputs": [
        {
          "output_type": "stream",
          "name": "stdout",
          "text": [
            "<class 'pandas.core.frame.DataFrame'>\n",
            "RangeIndex: 699 entries, 0 to 698\n",
            "Data columns (total 10 columns):\n",
            " #   Column           Non-Null Count  Dtype\n",
            "---  ------           --------------  -----\n",
            " 0   clump_thickness  699 non-null    int64\n",
            " 1   uni_cell_size    699 non-null    int64\n",
            " 2   uni_cell_shape   699 non-null    int64\n",
            " 3   margin_adhesion  699 non-null    int64\n",
            " 4   one_cell_size    699 non-null    int64\n",
            " 5   bare_nuclei      699 non-null    int64\n",
            " 6   bland_chromatin  699 non-null    int64\n",
            " 7   nucleoli         699 non-null    int64\n",
            " 8   mitoses          699 non-null    int64\n",
            " 9   class            699 non-null    int64\n",
            "dtypes: int64(10)\n",
            "memory usage: 54.7 KB\n"
          ]
        }
      ]
    },
    {
      "cell_type": "markdown",
      "metadata": {
        "id": "o8eHAp5UUbqZ"
      },
      "source": [
        "Semua kolom memiliki tipe data yang sama."
      ]
    },
    {
      "cell_type": "code",
      "metadata": {
        "colab": {
          "base_uri": "https://localhost:8080/",
          "height": 226
        },
        "id": "UA8u5RqKw7LY",
        "outputId": "a2f3c69a-5477-4e34-c1aa-13aed63f02bf"
      },
      "source": [
        "df.head()"
      ],
      "execution_count": null,
      "outputs": [
        {
          "output_type": "execute_result",
          "data": {
            "text/plain": [
              "   clump_thickness  uni_cell_size  uni_cell_shape  margin_adhesion  \\\n",
              "0                5              1               1                1   \n",
              "1                5              4               4                5   \n",
              "2                3              1               1                1   \n",
              "3                6              8               8                1   \n",
              "4                4              1               1                3   \n",
              "\n",
              "   one_cell_size  bare_nuclei  bland_chromatin  nucleoli  mitoses  class  \n",
              "0              2            1                3         1        1      2  \n",
              "1              7           10                3         2        1      2  \n",
              "2              2            2                3         1        1      2  \n",
              "3              3            4                3         7        1      2  \n",
              "4              2            1                3         1        1      2  "
            ],
            "text/html": [
              "\n",
              "  <div id=\"df-36e2dcc0-32fb-4e02-9c4f-33e68516fffc\" class=\"colab-df-container\">\n",
              "    <div>\n",
              "<style scoped>\n",
              "    .dataframe tbody tr th:only-of-type {\n",
              "        vertical-align: middle;\n",
              "    }\n",
              "\n",
              "    .dataframe tbody tr th {\n",
              "        vertical-align: top;\n",
              "    }\n",
              "\n",
              "    .dataframe thead th {\n",
              "        text-align: right;\n",
              "    }\n",
              "</style>\n",
              "<table border=\"1\" class=\"dataframe\">\n",
              "  <thead>\n",
              "    <tr style=\"text-align: right;\">\n",
              "      <th></th>\n",
              "      <th>clump_thickness</th>\n",
              "      <th>uni_cell_size</th>\n",
              "      <th>uni_cell_shape</th>\n",
              "      <th>margin_adhesion</th>\n",
              "      <th>one_cell_size</th>\n",
              "      <th>bare_nuclei</th>\n",
              "      <th>bland_chromatin</th>\n",
              "      <th>nucleoli</th>\n",
              "      <th>mitoses</th>\n",
              "      <th>class</th>\n",
              "    </tr>\n",
              "  </thead>\n",
              "  <tbody>\n",
              "    <tr>\n",
              "      <th>0</th>\n",
              "      <td>5</td>\n",
              "      <td>1</td>\n",
              "      <td>1</td>\n",
              "      <td>1</td>\n",
              "      <td>2</td>\n",
              "      <td>1</td>\n",
              "      <td>3</td>\n",
              "      <td>1</td>\n",
              "      <td>1</td>\n",
              "      <td>2</td>\n",
              "    </tr>\n",
              "    <tr>\n",
              "      <th>1</th>\n",
              "      <td>5</td>\n",
              "      <td>4</td>\n",
              "      <td>4</td>\n",
              "      <td>5</td>\n",
              "      <td>7</td>\n",
              "      <td>10</td>\n",
              "      <td>3</td>\n",
              "      <td>2</td>\n",
              "      <td>1</td>\n",
              "      <td>2</td>\n",
              "    </tr>\n",
              "    <tr>\n",
              "      <th>2</th>\n",
              "      <td>3</td>\n",
              "      <td>1</td>\n",
              "      <td>1</td>\n",
              "      <td>1</td>\n",
              "      <td>2</td>\n",
              "      <td>2</td>\n",
              "      <td>3</td>\n",
              "      <td>1</td>\n",
              "      <td>1</td>\n",
              "      <td>2</td>\n",
              "    </tr>\n",
              "    <tr>\n",
              "      <th>3</th>\n",
              "      <td>6</td>\n",
              "      <td>8</td>\n",
              "      <td>8</td>\n",
              "      <td>1</td>\n",
              "      <td>3</td>\n",
              "      <td>4</td>\n",
              "      <td>3</td>\n",
              "      <td>7</td>\n",
              "      <td>1</td>\n",
              "      <td>2</td>\n",
              "    </tr>\n",
              "    <tr>\n",
              "      <th>4</th>\n",
              "      <td>4</td>\n",
              "      <td>1</td>\n",
              "      <td>1</td>\n",
              "      <td>3</td>\n",
              "      <td>2</td>\n",
              "      <td>1</td>\n",
              "      <td>3</td>\n",
              "      <td>1</td>\n",
              "      <td>1</td>\n",
              "      <td>2</td>\n",
              "    </tr>\n",
              "  </tbody>\n",
              "</table>\n",
              "</div>\n",
              "    <div class=\"colab-df-buttons\">\n",
              "\n",
              "  <div class=\"colab-df-container\">\n",
              "    <button class=\"colab-df-convert\" onclick=\"convertToInteractive('df-36e2dcc0-32fb-4e02-9c4f-33e68516fffc')\"\n",
              "            title=\"Convert this dataframe to an interactive table.\"\n",
              "            style=\"display:none;\">\n",
              "\n",
              "  <svg xmlns=\"http://www.w3.org/2000/svg\" height=\"24px\" viewBox=\"0 -960 960 960\">\n",
              "    <path d=\"M120-120v-720h720v720H120Zm60-500h600v-160H180v160Zm220 220h160v-160H400v160Zm0 220h160v-160H400v160ZM180-400h160v-160H180v160Zm440 0h160v-160H620v160ZM180-180h160v-160H180v160Zm440 0h160v-160H620v160Z\"/>\n",
              "  </svg>\n",
              "    </button>\n",
              "\n",
              "  <style>\n",
              "    .colab-df-container {\n",
              "      display:flex;\n",
              "      gap: 12px;\n",
              "    }\n",
              "\n",
              "    .colab-df-convert {\n",
              "      background-color: #E8F0FE;\n",
              "      border: none;\n",
              "      border-radius: 50%;\n",
              "      cursor: pointer;\n",
              "      display: none;\n",
              "      fill: #1967D2;\n",
              "      height: 32px;\n",
              "      padding: 0 0 0 0;\n",
              "      width: 32px;\n",
              "    }\n",
              "\n",
              "    .colab-df-convert:hover {\n",
              "      background-color: #E2EBFA;\n",
              "      box-shadow: 0px 1px 2px rgba(60, 64, 67, 0.3), 0px 1px 3px 1px rgba(60, 64, 67, 0.15);\n",
              "      fill: #174EA6;\n",
              "    }\n",
              "\n",
              "    .colab-df-buttons div {\n",
              "      margin-bottom: 4px;\n",
              "    }\n",
              "\n",
              "    [theme=dark] .colab-df-convert {\n",
              "      background-color: #3B4455;\n",
              "      fill: #D2E3FC;\n",
              "    }\n",
              "\n",
              "    [theme=dark] .colab-df-convert:hover {\n",
              "      background-color: #434B5C;\n",
              "      box-shadow: 0px 1px 3px 1px rgba(0, 0, 0, 0.15);\n",
              "      filter: drop-shadow(0px 1px 2px rgba(0, 0, 0, 0.3));\n",
              "      fill: #FFFFFF;\n",
              "    }\n",
              "  </style>\n",
              "\n",
              "    <script>\n",
              "      const buttonEl =\n",
              "        document.querySelector('#df-36e2dcc0-32fb-4e02-9c4f-33e68516fffc button.colab-df-convert');\n",
              "      buttonEl.style.display =\n",
              "        google.colab.kernel.accessAllowed ? 'block' : 'none';\n",
              "\n",
              "      async function convertToInteractive(key) {\n",
              "        const element = document.querySelector('#df-36e2dcc0-32fb-4e02-9c4f-33e68516fffc');\n",
              "        const dataTable =\n",
              "          await google.colab.kernel.invokeFunction('convertToInteractive',\n",
              "                                                    [key], {});\n",
              "        if (!dataTable) return;\n",
              "\n",
              "        const docLinkHtml = 'Like what you see? Visit the ' +\n",
              "          '<a target=\"_blank\" href=https://colab.research.google.com/notebooks/data_table.ipynb>data table notebook</a>'\n",
              "          + ' to learn more about interactive tables.';\n",
              "        element.innerHTML = '';\n",
              "        dataTable['output_type'] = 'display_data';\n",
              "        await google.colab.output.renderOutput(dataTable, element);\n",
              "        const docLink = document.createElement('div');\n",
              "        docLink.innerHTML = docLinkHtml;\n",
              "        element.appendChild(docLink);\n",
              "      }\n",
              "    </script>\n",
              "  </div>\n",
              "\n",
              "\n",
              "<div id=\"df-2c7c441e-3fac-4385-8ce5-a79204175062\">\n",
              "  <button class=\"colab-df-quickchart\" onclick=\"quickchart('df-2c7c441e-3fac-4385-8ce5-a79204175062')\"\n",
              "            title=\"Suggest charts.\"\n",
              "            style=\"display:none;\">\n",
              "\n",
              "<svg xmlns=\"http://www.w3.org/2000/svg\" height=\"24px\"viewBox=\"0 0 24 24\"\n",
              "     width=\"24px\">\n",
              "    <g>\n",
              "        <path d=\"M19 3H5c-1.1 0-2 .9-2 2v14c0 1.1.9 2 2 2h14c1.1 0 2-.9 2-2V5c0-1.1-.9-2-2-2zM9 17H7v-7h2v7zm4 0h-2V7h2v10zm4 0h-2v-4h2v4z\"/>\n",
              "    </g>\n",
              "</svg>\n",
              "  </button>\n",
              "\n",
              "<style>\n",
              "  .colab-df-quickchart {\n",
              "      --bg-color: #E8F0FE;\n",
              "      --fill-color: #1967D2;\n",
              "      --hover-bg-color: #E2EBFA;\n",
              "      --hover-fill-color: #174EA6;\n",
              "      --disabled-fill-color: #AAA;\n",
              "      --disabled-bg-color: #DDD;\n",
              "  }\n",
              "\n",
              "  [theme=dark] .colab-df-quickchart {\n",
              "      --bg-color: #3B4455;\n",
              "      --fill-color: #D2E3FC;\n",
              "      --hover-bg-color: #434B5C;\n",
              "      --hover-fill-color: #FFFFFF;\n",
              "      --disabled-bg-color: #3B4455;\n",
              "      --disabled-fill-color: #666;\n",
              "  }\n",
              "\n",
              "  .colab-df-quickchart {\n",
              "    background-color: var(--bg-color);\n",
              "    border: none;\n",
              "    border-radius: 50%;\n",
              "    cursor: pointer;\n",
              "    display: none;\n",
              "    fill: var(--fill-color);\n",
              "    height: 32px;\n",
              "    padding: 0;\n",
              "    width: 32px;\n",
              "  }\n",
              "\n",
              "  .colab-df-quickchart:hover {\n",
              "    background-color: var(--hover-bg-color);\n",
              "    box-shadow: 0 1px 2px rgba(60, 64, 67, 0.3), 0 1px 3px 1px rgba(60, 64, 67, 0.15);\n",
              "    fill: var(--button-hover-fill-color);\n",
              "  }\n",
              "\n",
              "  .colab-df-quickchart-complete:disabled,\n",
              "  .colab-df-quickchart-complete:disabled:hover {\n",
              "    background-color: var(--disabled-bg-color);\n",
              "    fill: var(--disabled-fill-color);\n",
              "    box-shadow: none;\n",
              "  }\n",
              "\n",
              "  .colab-df-spinner {\n",
              "    border: 2px solid var(--fill-color);\n",
              "    border-color: transparent;\n",
              "    border-bottom-color: var(--fill-color);\n",
              "    animation:\n",
              "      spin 1s steps(1) infinite;\n",
              "  }\n",
              "\n",
              "  @keyframes spin {\n",
              "    0% {\n",
              "      border-color: transparent;\n",
              "      border-bottom-color: var(--fill-color);\n",
              "      border-left-color: var(--fill-color);\n",
              "    }\n",
              "    20% {\n",
              "      border-color: transparent;\n",
              "      border-left-color: var(--fill-color);\n",
              "      border-top-color: var(--fill-color);\n",
              "    }\n",
              "    30% {\n",
              "      border-color: transparent;\n",
              "      border-left-color: var(--fill-color);\n",
              "      border-top-color: var(--fill-color);\n",
              "      border-right-color: var(--fill-color);\n",
              "    }\n",
              "    40% {\n",
              "      border-color: transparent;\n",
              "      border-right-color: var(--fill-color);\n",
              "      border-top-color: var(--fill-color);\n",
              "    }\n",
              "    60% {\n",
              "      border-color: transparent;\n",
              "      border-right-color: var(--fill-color);\n",
              "    }\n",
              "    80% {\n",
              "      border-color: transparent;\n",
              "      border-right-color: var(--fill-color);\n",
              "      border-bottom-color: var(--fill-color);\n",
              "    }\n",
              "    90% {\n",
              "      border-color: transparent;\n",
              "      border-bottom-color: var(--fill-color);\n",
              "    }\n",
              "  }\n",
              "</style>\n",
              "\n",
              "  <script>\n",
              "    async function quickchart(key) {\n",
              "      const quickchartButtonEl =\n",
              "        document.querySelector('#' + key + ' button');\n",
              "      quickchartButtonEl.disabled = true;  // To prevent multiple clicks.\n",
              "      quickchartButtonEl.classList.add('colab-df-spinner');\n",
              "      try {\n",
              "        const charts = await google.colab.kernel.invokeFunction(\n",
              "            'suggestCharts', [key], {});\n",
              "      } catch (error) {\n",
              "        console.error('Error during call to suggestCharts:', error);\n",
              "      }\n",
              "      quickchartButtonEl.classList.remove('colab-df-spinner');\n",
              "      quickchartButtonEl.classList.add('colab-df-quickchart-complete');\n",
              "    }\n",
              "    (() => {\n",
              "      let quickchartButtonEl =\n",
              "        document.querySelector('#df-2c7c441e-3fac-4385-8ce5-a79204175062 button');\n",
              "      quickchartButtonEl.style.display =\n",
              "        google.colab.kernel.accessAllowed ? 'block' : 'none';\n",
              "    })();\n",
              "  </script>\n",
              "</div>\n",
              "    </div>\n",
              "  </div>\n"
            ]
          },
          "metadata": {},
          "execution_count": 8
        }
      ]
    },
    {
      "cell_type": "markdown",
      "metadata": {
        "id": "AFzlZiRH0-Or"
      },
      "source": [
        "##Validasi Dataset"
      ]
    },
    {
      "cell_type": "code",
      "metadata": {
        "id": "Z7r_ODVuvVuS"
      },
      "source": [
        "array = df.values\n",
        "\n",
        "# ambil fitur\n",
        "X = array[:, 0:9]\n",
        "y = array[:, 9]\n",
        "\n",
        "validation_size = 0.2\n",
        "seed = 7\n",
        "\n",
        "X_train, X_validation, y_train, y_validation = model_selection.train_test_split(X, y, test_size=validation_size, random_state=seed)"
      ],
      "execution_count": null,
      "outputs": []
    },
    {
      "cell_type": "markdown",
      "metadata": {
        "id": "1w-wh5cR1Aau"
      },
      "source": [
        "##K-Folds Cross Validation"
      ]
    },
    {
      "cell_type": "code",
      "metadata": {
        "id": "BQPO-tmtsyfb"
      },
      "source": [
        "seed = 7\n",
        "scoring = 'accuracy'"
      ],
      "execution_count": null,
      "outputs": []
    },
    {
      "cell_type": "markdown",
      "metadata": {
        "id": "gl4yDwxF3QVh"
      },
      "source": [
        "##Membangun Model"
      ]
    },
    {
      "cell_type": "code",
      "metadata": {
        "id": "56L_92y_3RXU"
      },
      "source": [
        "models = []\n",
        "models.append(('KNN', KNeighborsClassifier()))\n",
        "models.append(('NB', GaussianNB()))\n",
        "models.append(('SVM', SVC()))\n",
        "models.append(('DT', DecisionTreeClassifier()))"
      ],
      "execution_count": null,
      "outputs": []
    },
    {
      "cell_type": "code",
      "metadata": {
        "colab": {
          "base_uri": "https://localhost:8080/"
        },
        "id": "qX_9A1o74HJq",
        "outputId": "4f969517-717a-4ee9-ae0d-d1edb3642ab0"
      },
      "source": [
        "results = []\n",
        "names = []\n",
        "for name, model in models:\n",
        "  kfold = model_selection.KFold(n_splits=10, random_state=seed, shuffle=True)\n",
        "  cv_results = model_selection.cross_val_score(model, X_train, y_train,cv=kfold, scoring=scoring)\n",
        "  # print(cv_results)\n",
        "  results.append(cv_results)\n",
        "  names.append(name)\n",
        "  msg = \"%s: %f (%f)\" % (name, cv_results.mean(), cv_results.std())\n",
        "  print(msg)"
      ],
      "execution_count": null,
      "outputs": [
        {
          "output_type": "stream",
          "name": "stdout",
          "text": [
            "KNN: 0.967792 (0.026254)\n",
            "NB: 0.958831 (0.025367)\n",
            "SVM: 0.967825 (0.027416)\n",
            "DT: 0.930195 (0.036205)\n"
          ]
        }
      ]
    },
    {
      "cell_type": "markdown",
      "metadata": {
        "id": "AottXCYNUtGE"
      },
      "source": [
        "Accuracy tertinggi dimiliki oleh model SVM sehingga untuk evaluasi modelnya akan dilanjutkan dengan model SVM."
      ]
    },
    {
      "cell_type": "markdown",
      "metadata": {
        "id": "TDS_rM6oRq1N"
      },
      "source": [
        "##Evaluasi Model dengan Accuracy Tertinggi"
      ]
    },
    {
      "cell_type": "code",
      "metadata": {
        "id": "oPQhbrfo47rK",
        "colab": {
          "base_uri": "https://localhost:8080/"
        },
        "outputId": "4cf4e807-264e-4fe9-c0ba-a4514af886dc"
      },
      "source": [
        "# Make predictions on validation dataset\n",
        "svm = SVC()\n",
        "svm.fit(X_train, y_train)\n",
        "predictions = svm.predict(X_validation)\n",
        "cf = confusion_matrix(y_validation, predictions)\n",
        "print(accuracy_score(y_validation, predictions))\n",
        "print(cf)\n",
        "print(classification_report(y_validation, predictions))"
      ],
      "execution_count": null,
      "outputs": [
        {
          "output_type": "stream",
          "name": "stdout",
          "text": [
            "0.9642857142857143\n",
            "[[88  3]\n",
            " [ 2 47]]\n",
            "              precision    recall  f1-score   support\n",
            "\n",
            "           2       0.98      0.97      0.97        91\n",
            "           4       0.94      0.96      0.95        49\n",
            "\n",
            "    accuracy                           0.96       140\n",
            "   macro avg       0.96      0.96      0.96       140\n",
            "weighted avg       0.96      0.96      0.96       140\n",
            "\n"
          ]
        }
      ]
    },
    {
      "cell_type": "markdown",
      "metadata": {
        "id": "RSE_DGKnV-1F"
      },
      "source": [
        "![image.png](data:image/png;base64,iVBORw0KGgoAAAANSUhEUgAAAuwAAADiCAYAAAAVtZKlAAAgAElEQVR4Ae2dv27bvNuGdSxZMwVoFgM9guyZCmTzUKAHkLEIkK5ev45BpxyAgQwdO2Yr0MH7b3xPgR9oRxb5iJRIWf9IXi/Q144tU+T93BYvPX5EVYr/UKAABf7+/VvAKBkiCiiF13FBKQrg9VIizTi11yv9P/6hAR7AA3ggDw/8/vef4h8a4AE8gAfy8kDFeQsKlKCAhlH+Q4ESFGCSzmuSJp7EEw/gAe0BgL2EGZwxUiaAB4pRgMmdyR0P4AE8kJ8HAPZipvGyB0qGvez4lzR6Jur8JmpiSkzxAB4A2EuayQseK8BecPALGzoTOxM7HsADeCA/DwDshU3mpQ4XYC818uWNm4k6v4mamBJTPIAHAPby5vMiRwywFxn2IgfNxM7EjgfwAB7IzwMAe5FTenmDBtjLi3mpI2aizm+iJqbEFA/gAYC91Fm9sHED7IUFvODhMrEzseMBPIAH8vMAwF7wxF7S0AH2kqJd9liZqPObqIkpMcUDeABgL3tuL2b0AHsxoS5+oEzsTOx4AA/ggfw8ALAXP72XIQDAXkacGaVSTNT5TdTElJjiATwAsDPDF6EAwF5EmBmkAtgBG8AGD+CBHD0AsDPFF6EAwF5EmBkkwM4vDP+AtRxhjTHha4CdKb4IBQD2IsLMIAF2gD0LYH9Vd1WlquO/W/X1J7A2DrCj6zg6LuNHgJ0pvggFAPYiwswgAXaAPTtgr9SdF9jf1df72w+wr9T1/Svx74y/Cexdui4DpCnD9Bx9B9iZ4otQAGAvIswMEmBPC9jeXtXdTZ1J9j9e39yqu/tn9ePtPa3xdcJjFxQGguXbs7o+Z+K1fg/qx+B9dvUnl/cCdUXDVX7PAHam+CIUANiLCDODBNhXOdF6s28/H87Z4VP5hx/az+/fPKgfb7kApG8cgWAJsEf6PVBXgD1SV5+Px30dYGeKL0IBgL2IMDNIgH2VE+2owF7XdWcN7aFg+a6+Gr9QzFMS82rt8+5nSr96hOo6Lmh6/c+JQdTxCmBnii9CAYC9iDAzSIA9agJcHCSsDPut+uqC8Ld39fLzQV0bYHrKtudc/rFmsLT7dv0IsC/+PSoE/AF2pvgiFADYiwgzgwTY8wP2M4zY2eQjtGd7kaUNxf6LTpfIBNt9A9iXiEGZ+wTYmeKLUABgLyLMDBJgzxjY/1O/i6nZtqEYYB8LUNes61hjzLcdgJ0pvggFAPYiwswgAfa8gf3ff+rHvXlhqqeM5pyVTxVe1gyWdt/IsKfqsfT6DbAzxRehAMBeRJgZJMCePbC/PDbrjuuymHb2+d2AevOmQ/r1W2sZxOub555lEHX9/LO6u7E/p/d7ffOgvv58Vy+xJwdvr8e10+3lGG/V9XHZyhqibChuj7Hezhxrpa4fQ9dhf1c/HvV1AbaWlR6n1Y+P/bR+2TBPmlzP+64vWLuutb48rqk+H2Bnii9CAYC9iDAzSIAdYP9n17qfYNe33rs/Q69B3YZqF5hWqtLg7rpYtgXypxOG0wWznraqW3V3vIgzHNjNVWKqgJr+Fw3q1trt7r5ocD+fjFgXB7u3t8flB/Y0dAXU1wTqdV8Adqb4IhQA2IsIM4ME2LMH9v6SGAnsNvzaYOkGdpnFP37m5kHd3Z/+tVesuXVk+m3os/vdDb3Xej8GVHdl2GOAXf/CYI+/ux/nE4DjDa5ujxl519h1pt7+Z8C+ceKSjq527Gpg5HFZXQB2pvgiFADYiwgzgwTYMwd2G8bdd/aU2zRQqtcpP2eN33RZiKMkRpZ/+G7U1LpLqz+r/LuVodaAb5bTfCxdaUC6CdZjAHsblmUf9EW9p3Kd876dGXv7BCi4hj0pXZcFU04M3PoD7EzxRSgAsBcRZgYJsOcN7BJ8nUDpBvYwsBSfvXFnis9AJSDUvQ8bcKvKndU/tqmBubXevKtOvwYa0V+nHnrbiD7ojHh9MuJsz27LPea6f/Wj6Ofqda37zePZ68YvJUu9BrAzxRehAMBeRJgZJMCeL7ALONZZYHfmWcChzlo7wdMBY+KEwN2+/Tkrc+0CUdFmP+C2++/vh9jWN07RB3979tjcYDYA2Afsf1ldQ3RgG7c/ptMFYGeKL0IBgL2IMDNIgD0/YNelK2J1l2PJhg9OxUWn7rIZN1RYdeYu+HZlGS0YbWfPrTa7sutW2zYU+wE7DNjtPnSU7lh9cGsks/X9JyBiKc4kdPWNndfnhnRzfwA7U3wRCgDsRYSZQQLsCQN7U2t+rqH21HRXndAXBrEmCJyeD/ycyPzbcC3a7Oy3CYNjArvog/dEx9x/13O7b/3APnD/i+raNX7ea3935tEEYGeKL0IBgL2IMDNIgD1zYK+XPewChIGAKOu8b27Pq8LUq8O4H+2VVzqBPRiWbSi22zTHHjJWu61+wDbbdz2Pbc/eXq/17taxWYXn9P6SurrGzWtLgXq9X4CdKb4IBQD2IsLMIAH2/ID9uGRgzE2KQiDWBV8CLH3Z/Z7XbbgWbS4B7CJTvTiw9+jn+3VlXl1d/uC1GpyXegTYmeKLUABgLyLMDBJgTxjY2/Xfw8BgQWDXS0BadeAAu6x59wF55+uz6wqcD/vuTasbwM4UX4QCAHsRYWaQADvALi86HZjVDl5ZxgJ0CSwrAHZR6rN4hj04HlJL8++pdTX3xfO1wDvAzhRfhAIAexFhZpAAO8A+GNiHZua7gE60uchFp0Ph1jcuu73+EwChwSjALtocXVff2Hl9SXgH2Jnii1AAYC8izAwSYAfYBwP7wOUHOzPsos1Klsz4ANCGYrt+2/yMAFcnDIttgvtg7sd8bvetH9iFBsFwbe6z/XzYUpV23/26tve3JKiy71M8AHam+CIUANiLCDODBNgB9guA/be1prrvxkxxMGfdAKiqVD/gSsDu6ofY1gns/ynZh8tA1YbeoNKh5HSNizFAPY9eADtTfBEKAOxFhJlBAuwA+yXALuq9Y2665IU2sUrLsc03D+C8vaq7m/Z69H7ADgP23zF90L8YvL2qr/e3njvEin0GZcwF5F+c5dd9fFbX1oozD+rHaLp64tPza4rXA3xulOMSwM4UX4QCAHsRYWaQAPsoE+Ns4GFlXpdeJeYEaTIbXVW36u7nu19XfSfWn8/qTq8v7tnOLt/QQH6rvlrbvqsfjw8CQBtwvxjY/4mylCPonvr7YsKkvKusB8bleK4fX9W5HQ375t8f7aelK8A+2zHA9F/Pc4CdKb4IBQD2IsLMIAF2P1j2TIaLTNArBHatww+dXbaytx/wfFwT/lZdHx8boK639Ze7yAxz+7N1G/pRt2NC8RjA/lv+8uAan3zNU2IjS4fMvp+eu2v109EVYF/keNBzjALYmeKLUABgLyLMDBJgB9glmPqgswcOXjoy3m1APQG4H9g1ALrLXey2msz7+MCu+/B+KnWRYO74+/r+ucmaO7TywvexLTewawhMQ1eAHWBnOkWBhRQA2BcSnt3OrsAaJxr65AGgn2YdckcNsgMY/Zra2WldruHf1tOv8/7e1ctHuYtdL60B/SPTfv9wKgHx1U+f2zrtq27PAnVdTiPKSH48Nln+rgy7CfahY335qFG/FvXy+peDu8dnfy14wFiub053pe3WfO269vmC97vjO40+ZNhnn07Z4RIKAOxLqM4+l1BgiYmEfU4zQaMruuIBPFB7AGBfYkZln7MrALDPLjk7XEiB+uDOIxM9HsADeCAfDwDsC02q7HZeBQD2efVmb8spwASdzwRNLIklHsADtQcA9uXmVfY8owIA+4xis6tFFagP7jwy0eMBPIAH8vEAwL7o1MrO51IAYJ9LafaztAJM0PlM0MSSWOIBPFB7AGBfenZl/7MoALDPIjM7WYEC9cGdRyZ6PIAH8EA+HgDYVzDB0oXpFQDYp9eYPaxDASbofCZoYkks8QAeqD0AsK9jjqUXEysAsE8sMM2vRoH64M4jEz0ewAN4IB8PAOyrmWbpyJQKAOxTqkvba1KACTqfCZpYEks8gAdqDwDsa5pp6ctkCgDsk0lLwytToD6488hEjwfwAB7IxwMA+8omW7ozjQIA+zS60ur6FGCCzmeCJpbEEg/ggdoDAPv65lt6NIECAPsEotLkKhWoD+48MtHjATyAB/LxAMC+yimXTo2tAMA+tqK0t1YFmKDzmaCJJbHEA3ig9kClQYZ/aIAH8AAeyMMD9cGdRyZ6PIAH8EA+HiDDvtY0Gf0aVQENo/yHAiUogNdLiDJj1ArgdXxQigLa6wB7KdEufJwc2As3QEHDx+sFBbvwoeL1wg1Q0PAB9oKCXfpQObCX7oByxo/Xy4l16SPF66U7oJzxA+zlxLr4kXJgL94CxQiA14sJdfEDxevFW6AYAQD2YkLNQDmw44FSFMDrpUSaceJ1PFCKAgB7KZFmnFychAeKUQCIKSbUxQ8UrxdvgWIEANiLCTUD5cCOB0pRAK+XEmnGidfxQCkKAOylRJpxkmHHA8UoAMQUE+riB4rXi7dAMQIA7MWEmoFyYMcDpSiA10uJNOPE63igFAUA9lIizTjJsOOBYhQAYooJdfEDxevFW6AYAQD2YkLNQDmw44FSFMDrpUSaceJ1PFCKAgB7KZFmnGTY8UAxCgAxxYS6+IHi9eItUIwAAHsxoWagHNjxQCkK4PVSIs048ToeKEUBgL2USDNOMux4oBgFgJhiQl38QPF68RYoRgCAvZhQM1AO7HigFAXweimRZpx4HQ+UogDAXkqkGScZdjxQjAJATDGhTmSgB3XY79R2u1GbqlKV8W+z2ajtbq8Oh2FDwevDdONT8ypw2G0s31fVRm12caYH2OeNGXtbUAEO7AuKz65nVQCvzyo3O/MqcFD7rQQVG9gteN/uvS353sDrPmV4fTUKHHatE9Wj7yP9DrCvJqJ0ZGoFOLBPrTDtr0UBvL6WSJTcj73aGpl0E8w7nw+AmJJVZuxrV+CgdhvPSeoAr1drHy79Q4ExFABixlCRNlJQAK+nEKXM+2hlFTdqs92pvah7OZbJOGAmhmPweuY+Sn14+61RCrNRG9PvMUZX6ljWC7Cnbgj6H6QAB/YgmdgoAwXwegZBTH4Ipwz7ZrtX3ZW6jgzkZtfzmUYcvN5owbO1KWD/yrTdC68D7GsLGP1ZiwIc2NcSCfoxtQJ4fWqFaX9UBawspC4f2KrQana8PmokaGxEBawLTY9wDrCPKC9N5awAB/aco8vYTAXwuqkGz9evgJ2J1CtohC6ggdfXH90ieyhKwk5+BtiL9AKDjleAA3u8ZnwiTQXweppxK7fXAmQA9nKtkMXIbT83yzfar1eUxGQRbQYxgQJAzASi0uQqFcDrqwwLnfIqIDPslMR4peKN9StglXiZXgbY1x88ergKBYCYVYSBTsygAF6fQWR2MZ4CVvlApSouOh1PW1qaWQH75NNOogPsMweD3aWqABCTauTod6wCeD1WMbZfVAErI1mpmFIBvL5o5Ni5UMC60LR14gmwC7n4EwXcCnBgd+vCq/kpgNfzi2m+IxIQU1XKzkp2jxyvd+vDuzMqYP1S5LpwWng9xuiswz5jINnV4gpwYF88BHRgJgXw+kxCs5vLFZDZ9VZWsnsXeL1bH96dT4H9trmjaXOhqbl/gN1Ug+co4FWAA7tXGt7ITAG8nllAsx2OXe8bs5xjLQler5XgcVEFrBNP80JTs1cAu6kGz1HAqwAHdq80vJGZAng9s4BmOhwzI1lVlXJnJbsHj9e79eHdORSwTzz9lS4A+xzRYB8ZKMCBPYMgMoQgBfB6kExstKAC1sV5VdyFpma38bqpBs+XUMDycmdJF8C+RHzYZ4IKcGBPMGh0eZACeH2QbHxoJgUswNGw3gk53Z3C69368O7ECvReaGruH2A31eA5CngV4MDulYY3MlMAr2cW0IyGc7BqffVFer5637BB4/UwndhqGgWssi5/LczHzgH2aaJAq9kpwIE9u5AyII8CeN0jDC8vq4AL1g+XdQmvX6Yfn75EAbt2XV+Hccm/Pt7XXq8u6S6fRYFUFODAnkqk6OelCuD1SxXk86MrsN+qjQU0W7W/ENZ1H/H66JGiwWAFxgX2vouuAfbgwLBh6gpwYE89gvQ/VAG8HqoU282igFXnq7OQrpvKDOsJXh+mG58aQwFR4mKdkMZn28mwjxET2shCAQ7sWYSRQQQogNcDRGKTeRSYENb1APD6PGFkL2MoIAC/j9DFLrXXKYkRovBnngpwYM8zroyqrQBeb2vCKwsoMDGs6xHh9QXiyi4HKgCwDxSOj5WmAAf20iJe7njxermxX8/IZX3veGUw5hjxuqkGz9etAMC+7vjQu9UowIF9NaGgIxMrgNcnFpjmexVorbUeXd8bBvh4vTcUbLAaBQD21YSCjqxbAQ7s644PvRtPAbw+npa0NEwBa33qaFg/XbAXUuKL14fFh08toQDAvoTq7DNBBTiwJxg0ujxIAbw+SDY+NKIC7Rskjb9qhu4uXh8xaDQ1sQIHZZ7Ibnb7qP1pr3PRaZRkbJyqAhzYU40c/Y5VAK/HKsb2qSqA11ONHP2OVQBgj1WM7ZNVgAN7sqGj45EK4PVIwdg8WQXwerKho+ORCgDskYKxeboKcGBPN3b0PE4BvB6nF1unqwBeTzd29DxOAYA9Ti+2TlgBDuwJB4+uRymA16PkYuOEFcDrCQePrkcpALBHycXGKSvAgT3l6NH3GAXweoxabJuyAng95ejR9xgFAPYYtdg2aQU4sCcdPjofoQBejxCLTZNWAK8nHT46H6EAwB4hFpumrQAH9rTjR+/DFcDr4VqxZdoK4PW040fvwxUA2MO1YsvEFeDAnngA6X6wAng9WCo2TFwBvJ54AOl+sAIAe7BUbJi6AhzYU48g/Q9VAK+HKsV2qSuA11OPIP0PVQBgD1WK7ZJXgAN78iFkAIEK4PVAodgseQXwevIhZACBCgDsgUKxWfoKcGBPP4aMIEwBvB6mE1ulrwBeTz+GjCBMAYA9TCe2ykABDuwZBJEhBCmA14NkYqMMFMDrGQSRIQQpALAHycRGOSjAgT2HKDKGEAXweohKbJODAng9hygyhhAFjsD++99/in9oUIIHtOH5hwa5e0D97/8U/9AAD+ABPJCXB6oSQI0xckKiPcB/KFCEAgA7Jyx4AA/ggew8ALDzC0Mxv7AUAWsMEgWYqLObqMmU5pUpJZ7Ec4gHAHaAHWAH8VAgJwUAdoAdD+ABPJCdBwB2gB1gzwnWGAsKMFFnN1EPycbxGbK4eCAvDwDsADvADuKhQE4KAOwAOx7AA3ggOw8A7AA7wJ4TrDEWFGCizm6iJlOaV6aUeBLPIR4A2AF2gB3EQ4GcFADYAXY8gAfwQHYeANgBdoA9J1hjLCjARJ3dRD0kG8dnyOLigbw8ALAD7AA7iIcCOSkAsAPseAAP4IHsPACwA+wAe06wxlhQgIk6u4maTGlemVLiSTyHeABgB9gBdhAPBXJSAGAH2PEAHsAD2XkAYAfYAfacYI2xoAATdXYT9ZBsHJ8hi4sH8vIAwA6wA+wgHgrkpADADrDjATyAB7LzAMAOsAPsOcEaY0EBJursJmoypXllSokn8RziAYAdYAfYQTwUyEkBgB1gxwN4AA9k5wGAHWAH2HOCNcaSiAIHddjv1Ha7UZuqUpXxb7PZqO1urw6HgUNhos5uoh6SjRv0mT9Pav/9s9p8urI8qf2pX9t+uVf7PwOyo1O1i9fx+qo88KQOv+7V9tNV67he6e/P92/qMOT78zFGgB1gB9gHchEfQ4F4BQ5qv920YMgEdvP5ZruP38WqJrABcEf/F4CwJ7X/0oZ004vm882Xe3UIitNU7eKrQSdkQTFD23htY33+LfD7Y8cCYAfYAfZ4JOITKDBAgb3aGpl0E4A6n8dCO5PyAsBrT6zxE/6Sn39Su0/2rzwnP14ds+qubPvx/U990D5Vu0tqxb7T8vYc8fL53PWdMl778i36OAWwA+wA+wD04iMoEK3AYWf8TLpRm+1O7UXdy7FMZmMc1D8AP4rZAfboibBkCDl8F5n1T+6yl9NP/bY3N9+fvFpP1W7JsWLscwB47D6+WYkY/evT/o/9vTj8+aa2jpPi7a+4fQHsADvAHk1efAAFhihwyrDrMpfu8vSD2klo3+x6PmP0B2D3QiTAIwHBho2qN2seun3odnV/YrevP8cjnl7aA9q7H/XpncdeRyY+MssOsAPsALvBOjxFgVUosN+KOvetCq5m75w0lp7c2P+qAOvPvfGrT6VCMn77L2aW/bPau/w2VbuuffEaJ6ipeEB8L/pPkO3jJcAOsAPsqyA0OoECpgKy3n2jdt1p+ebDqUxe9HN50Pr12ToxDAF2u9TFA+xTtYtnlvcMMbggBuKXpMrz/fFoDLAD7AB7gzo8Q4GVKCDLYgD2VWWmPRNqcn0cANZWht1XQjNVu7nozjgugF4765zWd04Au+/74/EHwA6wA+wrQTS6gQKNAjLDTklMWhNzKlARCxD29v6LTu3t+n/6t7f3t5uKrvST76vDA7Ikhhr2/4oB0N+cbETFuoEhnqHAyhWwVpSpVMVFp4Vm5ByTvif7NhSQ7BKXSlVffGtEy4vmun/On6rdoePkc9N7CY27NZbfidgTUzLsQG8U9KZ8krByRKN7KNAoIC86jVnXcWSgYxLunoTT10eCeKWqT5/V7pexNF1rWborteu9Y+NU7eYeD8aX/nfKEUOZXY+sX9eaAOwAO8DeYBLPUGAFCsj69UrF8HqWkx0nIRP/wuCA66pSGw3u8g6onz6rfS+s18AyVbt1+zzyfV+7B57U/vtnazWmqgo54W2PC2AH2AH2FSAaXUCBswIyux5TDqMbAW7RYKAHDi2wMJdwDFlrug0Z2o9TtYvX3XqjyxK66JPT5u7A+g7BG8edrU83VhrWP4AdYAfYz6TEExRYWgF5sWnE6jB11wfCGpP8sEk0L92e1F5m1E3oOGbXjVKZYK9N1S4xy8t/CcezVfJinuzq51dq8+VUanYI/t7YegDsADvAXoMOjyiwsAL7rX2Q3wQvvm50fOBkwMRvT46l6XH4JX+21yUxviyh78LUtoZTtVtafBhv21vr0sRe6agyT3Rbz/WvVfEnvgA7wA6wG6zDUxRYSoHDbmPdxKaKKlw3eg2wUxIT5YF2nbn9s72rBvd0YarzLqfnfU/V7trBjf6tC6QXjsefJ3X4da+2n+xkjAb6Dcs6sqxjyiu5TNl3A2l4igKrUqAF67F16+ZozsC08ERFPxI4cZBQfaW25uowZgz/fFM7CR3eG79M1S6eBobT9YDr16aQuwvXMSfDToadDLsJOzxHgZkVOMiLTKuImyS5+mpCFs8TgOblAESuCx0CD9adTnWW0PHT/lTt1uDC43KeQfvLtJffjf6bijX7A9gBdoDdBT28hgJzKOCC9cOFOwbSgfQgD4ia2+Cf58XnWll28f5o7TbgAjSiRboeEN+PiCUeAXaAHWC/kI/4OAoMUmC/Fct+bdX+UljXHQmCNSb84nUSq1q4MuU+jewsu7jj6VTt4mu+21l4oF0u1n8TstPxGmAH2AH2QbTFh1DgAgUOOwHrA5Zv9O0+i0mNEwofLI/2+q/P1kXOIeUw9b47gX2qdvE1wJ6FB8iwFwOdU16UmXvbPr7hdRSYVYEpYV0PJItJDWCfPI6DM+EiQyhLYqZqF1/z3c7BA+KElhp2suacwDg8MCuUsTMUcCkwNazrfeYwqTGGGeI4MNMngKNdSjNVu5zE8d1emwdOJ6/2Mqgdffwjvxvui7Z9caYkxgF2uWeaSx2fi594DQXmU2CEu5iGdBbYnQF2OyblhPRvrVhRnZZ1dN+JUa/HfmWV0ei7N7rqb6dq1wcyvJ6HH9OLo/y16bPaff+mDn9EPP547mVQies/eo4dADvAXkw2PoR12AYFplKgtdZ66+537Rtr2HfLC6xz7znopzcpismP8Y14QiKAw/Lk1elOp567nWpY99e9T9UuXuD7uy4P2Ndz9B3DzffdJ7td8QXYAXaAfSpCo10UMBTYb82D9bDnQTc/BWhHBNp1wUHXZD78vSe1/yIz5z3+/PRZ7WUWseW7qdotISaMcbifZ9ZO31As8vsTXEIjvlMAO8A+ANjf1Y/75oB+/fg6oI3570hrsBNPUWB2Bdo3SGq+Q3Ym3f86wD7zZCwmzGQgYlC/9c/2+hbqV2IFo5MfN5+u1PbLfQCoyxhN1a7cD3/n7c+1x/dJHX7dq+0X/cuUPIbr1z6rratcJuK7CrAD7ANg+119vTEMeQ+wz05/7BAFfApETABM8GuHAPqHR/EAHjh5IHFgF+BYVeo6EXhM+8JPoXsimvv4htdRICsFAHZKYvAAHsAD2XkgbWB/e1bX1kUyOut7q76+zV9ukTaAx+oFsGcFeAwmLwWYqLObqMkwkmXGA3ggaWA366jNGtDrx/cBZR6x0Orb/tUqF7n7uWRffH289HWAPS/CYzRZKQCwA+x4AA/ggew8kDCwv6q7Vnb9o6765lm9LFabbvdr2ZOHS8Hc93mAPSvAYzB5KcBEnd1ETXaV7CoewAPpAvvPB+MGDg/q7v7W+HvJshiAfa3lQXlRGaNBAY8CADvAjgfwAB7IzgPJArtVDqMvehT17MtltgF2gN0DUryMAnMowESd3URNdpXsKh7AA4kCuw3Fdz916YYo06ge1I9FymLsvi134uArZxnjdaE1q8TMgWHsAwXCFADYAXY8gAfwQHYeSBLYXx7N8pcGzO3XK3UC+SGA+q5+PD6o6xtzP5Wqbm7V9f2z+iFXoRHZffMCWPfzps+nbLQNwGGQb54Y3Kqvx5OWvrG+q5efz+pOj0PU/+ux3j2+qhc5NudJj93fCmAPAym2QoE5FGCizm6iJrtKdhUP4IEEgb0DFiU4DwDJFw3qAmZd0K3B/Xxhq1VPb9xQyNtON7CHAbAJ7H0nJ/rOpG1Id41LL4t517vKTq9lFIwAAA4aSURBVEcMnIDfdyIxz/tzsBL7QIHFFQDYAXY8gAfwQHYeSA/YBZTbWXQBkpFlMRpq3RDrgfD6hODt9ZS11plr8w6gR2DXr8l/BuwfAVf0u263E35DgV20fT6JqPvkHputqwRq0WZQf2Ub8/+9OEjRARSYQwEm6uwmarKrZFfxAB5IDtjtsheZqf5P/RbZ7m7wbKDRbldD7K3Sa6ifs+gant9e1VcT6p2gaoN0WHnLEAC29+Mdp3WC81H24jgReBG6VZ1LYw7pb6P1UhelzsFK7AMFFlcAYAfY8QAewAPZeSAxYLdB0Q3DNsh2g2cNkeIzfXdLPWbUK+UuXbHbcvex3m/9aI/L3W69bf1o78cL7P/0dn5QN+HZPmnpWhpzSH/rfi/3uDhI0QEUmEMBJursJmqyq2RX8QAeSAvYrSywHyitJR/74Ftnm612++rB+4DTBunlgb2vv8b7Vja+S4c0gf3v37+Kf2iQuweY2JnY8QAewAP5eSApYLdAvKtkQwB4HzRb7UbWvZsZ6tPzhIH9mI1vatr9uqUJ7HMkN9kHCiyuABl2Mux4AA/ggew8kBCwx4CwvW13WczY8Gnv2w+9RmZbriHvrI03t9fP7f34S2Lk57r+ttv0931szbr6NN57i4MUHUCBORRgos5uoiZbml+2lJgS01gPpAPsVtbcXw5TZ7ztrHnX9qGQGgqOQ9obAsD2fqKA/e1d/fj5qr4+Pqi7e/OfvfQjwD4HXbEPFBhZAYAdYMcDeAAPZOeBZIDdAvCucph6BRQL8H0XiOqVX56tddf9kJo4sMsVbs7LOzYlMHJJS78WQ04wQvWbbruRsYjmUGCdCjBRZzdRx2bi2J7sLR7IzwNpALuAag2W7bXN63XF60cJoo4lII9LNeYP7HrJxpCbQQHs6+QveoUCUQoA7AA7HsADeCA7DyQB7PZygxLEw/92l43YpSX+rHJo5ndIe0My1vZ+3GNr/4Kg15e/vn9VL2/vqi4fah7tNv1aDOlvqH7TbRcFPWyMAqkqwESd3URNtjS/bCkxJaaxHkgA2AUcBpRyyEzx+W/nxZw2pIatgd4FlXZ7fug12xBjdPbT3F4/t/fjA3arlKh3iUu7TX/fh/RX9n/+v1PlL/qNAlEKAOwAOx7AA3ggOw+sH9hFOYwfIl0AKMDSuWRjyDautn2vhUKv+XnRh9GA3e5L/8mIvb1f6yH9Nce7zPMo6GFjFEhVASbq7Cbq2Ewc25O9xQP5eWD1wG6Xw3St9uKGQPvzlXJBqNzGl61uSkfc+zq9b0NvPySf2rIz4Z56+/qCWrkMZOW7yZHdF9fY7TGFbg+wp8py9LsABQB2gB0P4AE8kJ0HVg7sNkB2r6fugWiRoXe2IbfRmfg3T3vHC1Vf1df7W+WGcQGzISva/PtPyZMGL1y/vaq7m3bdvvskQ+jXmbl/V/ZJg/vk5gT4Yoyd7XboeD4BmWebAlCNIaJAdpMUmcL8MoXElJjigXgPrBvYxdKMXojtBD8Bl546bgmr+uLMu5/v6sVsW69ffm+sVe6BcdnW9eNr045eXtH8u26/ddJQnS4Ord//9666VntxA/t/LQjXY7Kz6vrCVPdJgF9voSnADiaiwHoUILPGSQsewAN4IDsPrBrYbfDtKxPpyNIGgb+A0JCLW32gKvZ3vuj13KZ7LDLL3v5ck1m/vn9WX41Muw/Y5TrzxzZvbs83TLo22tDvmX8D7OthMHqCAsEKMFFnN1GTjYzPRqIZmuXmgRUDe0w5RwesHzPUoi1PZvy3rg3XpS5nsG4AWb6mgdnKvp8z4ae+6Ey8/EzztxvYdea7+3O6P6fM/7GvBmx7gV33K2gd9o9fFB6bfgPswYjEhiiwHgUAdoAdD+ABPJCdB9YL7FaJiIbJPijvft8G4e4a9ZePu4Ka2WYN2/pmTXePz9317Qa4v/x8Vnc3DQCf2nhQX11lKebnjiUqRumNPoE47tsorTnCfXNC0a/Pu/rx+GBl0JsxNe2aWX5n+cyxn3a9uy75aZXZGONZy3vrISp6ggITKsBEnd1EnVumkPGQ/cYD8R5YL7CvEPjWAp70o/vkzKfPhIhE0yiwHgUAdoAdD+ABPJCdBwB2TgySyI77IDzm9fUQFT1BAbcCh91GlNJt1GZ3cG/se5WJOruJOu1s5JM6/LpX2y9XaiPKTTefrtT2+zd1+BOfbUxbE8a7xvgdvl+J4++V2nx/6jiePKndp6bSoSl7jnzty7eOfTReAdgBdoDdBz68jgJzKnDYtYDmOAFs93G9ANiDJr81AkNefXpS+y8SgPwgswmElrw0amCMcS2sxZ979/G305ff1FachA6C9k/36hBw3AbYAXaAPQ6H2BoFJlDgoHYbD8wA7AB4wGS+LuAbCDKdcLQw0CUXA/QK/050ZMo7PdnxuRiQ79xHE0eAHWAH2CfAL5pEgSgF9lvjp9iN2pjwDrAD7KnBopWtvFKbL/dq/8cuLTiWyTjKCba/GkAJBy4+g1YXeODXZ+P4e6U2pi8DYTpKf2t/VU/ZTTMugB1gB9ijyIqNUWBsBfbWz6rbvci2A+wAe2rA/r9Thl2XuXT/1O/IUAaWB0QBUnL6NZDGOKfWwv41aPtLeHJ0YBftV5/VPtCfADvADrCPzV+0hwIRClgXmh7hHGAHUqaGlBW1L7KNVQTA4JMVxTEQOtcWM+tC0yOcC6AeG9itX5/Cs+taN4AdYAfYI+CKTVFgVAWsC0036rQgDMC+tkmd/kwJhnaGs6qu1I5VY/hVaY4TAAuea99NC+z7L+a1SvU+w75fADvADrCPSmA0hgKhCthg3izfaL9eURIDvMwBL4vtQwASwI7fZ/Gi7btm+Ub79WrMDLt1glCp2LYBdoAdYA/lK7ZDgTEVsC403apm8UaAnYx2WMYtD51khj28pjeP8ZcU6xWN1SrFMj03HbBb5TcDTkwBdoAdYB8TwmgLBYIUkBeamh8C2AGxFYHN1NlOmXXkolMy7FN77uOi6HrNdHtloqmAXZyYDvA5wA6wA+wmK/EcBWZQwLrQdLNT9r1MAXaAvSBgtzKd8WUCeKUgr4wE8lamuwXO0wC7tc+qUvZJQlgMAXaAHWCfAdDYBQqcFXBeaHp+VykFsANhYRN4+joJOBoIMunrUEq8VzBO6xcd10WfwpOj1LCLNgeuhASwA+wAu8lKPEeBiRXYb5tVApoLTc2dAuwA2ArAZqRsZmcsZXa9le0sRIc5tGYfx1Ijc5WW5kJT02cCrscAduFz937NPrifA+wAO8BushLPUWBKBbwXmpo7Bdg7IQ/wyKTGWdT0DrgID5+4wQ5dPLpY4GxeaGpuPzawi/YGZtd1TAF2gB1gN1mJ5ygwmQJdF5qaOwXYAQ4TIPJ8bmY69cV/Q7OOeCVPf4wfV/sE0V9DLgD70gy7VYJz2TUaADvADrCbrMRzFJhIge4LTc2dAuzjT9ZAzZo0lRfgxa5Hvaax0Jc0vluW5zpLr8YFdvvE1FUzH64fwA6wA+wmK/EcBaZQoPdCU3OnADsQFD6Jp6aVBU5VpapOeMpXh9TilnR/rSx3HzSPCOzWfi/3OsAOsAPsJivxHAUmUMC80LT/zqUAe9JwQI29t8b+YNUQ64uvfXXEgDrfgfE8YGW5e0tcxgN2a78jrIAEsAPsAPsEgEaTKNAoYNeu1zfrGPq4bW6J2uzCfAYweoERCBoPgqK1dMH6nwX7w/ekkO+JXbs+9Lhbf85f+y69LPY7wi9JADvADrCbsMNzFBhdgXGB3b0UpNFpQKQQEJGAsOK/f31WG13+cv73We2BdXw6y7FKgPPZg6Yfw5+HXhwtS79CP9d1IgywA+wAu8E6PEWB8RUQJS4XThhk2FcMprMASGLjl3W8LN8IqM/6PRElLpcef3+FfP/kScI4pV8AO8AOsI9PaLSIAhcoIAC/l9DFrmadDEMmL7bpyppl/R6wDpwndzwSgN9b8+44vonyrzGy6/o4AbAD7AC74B3+RIFlFQDYs4bY5ADGASQhYwDWgfUQn6xum0uBXXx+xF+UAHaAHWBfls7YOwoIBQB2gH0gJK8GfmRJQN9SeqmPl/7n850VwB2bYRfZ9THvMQCwA+wAu8Al/kSBZRUA2POZ/MsEOXnBXXOxaejFfQA+34GlvjuXAfvYSzmaPgDYAXaAfVk6Y+8oIBQA2M1JiudLgcvw/UpoiQf2SoUvnze8n3gL7doeuADYZRnYCEs5mv0D2AF2gF3gEn+iwLIKHJR5o6XNrm/hddHb1ZRFAAPmZFvS8/YNkkIz6812ADvfn2W+M0/KPOHcfP8WfC2C7fur0U86AXaAHWAXvMOfKJC0AgB78AS7DBAAYuiOB/BAvAcAdoAdYE+azug8CggFAHaAHQ/gATyQnQcAdoAdYBe8w58okLQCTNTZTdRkI+OzkWiGZrl5AGAH2AH2pOmMzqOAUABgB9jxAB7AA9l5AGAH2AF2wTv8iQJJK8BEnd1EnVumkPGQ/cYD8R4A2AF2gD1pOqPzKCAUANgBdjyAB/BAdh4A2AF2gF3wDn+iQNIKMFFnN1GTjYzPRqIZmuXmAYAdYAfYk6YzOo8CQgGAHWDHA3gAD2TnAYAdYAfYBe/wJwokrQATdXYTdW6ZQsZD9hsPxHsAYAfYAfak6YzOo4BQAGAH2PEAHsAD2XkAYAfYAXbBO/yJAkkrwESd3URNNjI+G4lmaJabBwB2gB1gT5rO6DwKCAUAdoAdD+ABPJCdBwB2gB1gF7zDnyiQtAJM1NlN1LllChkP2W88EO8BgB1gLwbY//79q/iHBrl7gIkwfiJEMzTDA3hg7R74f3Pko+a9BTzUAAAAAElFTkSuQmCC)"
      ]
    },
    {
      "cell_type": "markdown",
      "metadata": {
        "id": "11tqfkiVWEc5"
      },
      "source": [
        "Terdapat 88 kali prediksi class 2 (benign) dan faktanya class 2 (benign) <br>\n",
        "Terdapat 3 kali prediksi kelas 4 (malignant) dan faktanya class 2 (benign) <br>\n",
        "Terdapat 2 kali prediksi kelas 2 (benign) dan faktanya class 4 (malignant) <br>\n",
        "Terdapat 47 kali prediksi kelas 4 (malignant) dan faktanya class 4 (malignant) <br>"
      ]
    },
    {
      "cell_type": "markdown",
      "metadata": {
        "id": "CRYXJp0tWtbP"
      },
      "source": [
        "Sehingga bisa disimpulkan bahwa:\n",
        "<ul>\n",
        "  <li>TP = 88</li>\n",
        "  <li>FN = 3</li>\n",
        "  <li>FP = 2</li>\n",
        "  <li>TN = 47</li>\n",
        "</ul>"
      ]
    },
    {
      "cell_type": "code",
      "metadata": {
        "colab": {
          "base_uri": "https://localhost:8080/",
          "height": 448
        },
        "id": "nrnKQZIJpMvb",
        "outputId": "2e1417ad-2cc8-4492-c6e1-8937660ce3a0"
      },
      "source": [
        "sns.heatmap(cf, annot=True, cmap=\"Blues\")"
      ],
      "execution_count": null,
      "outputs": [
        {
          "output_type": "execute_result",
          "data": {
            "text/plain": [
              "<Axes: >"
            ]
          },
          "metadata": {},
          "execution_count": 14
        },
        {
          "output_type": "display_data",
          "data": {
            "text/plain": [
              "<Figure size 640x480 with 2 Axes>"
            ],
            "image/png": "[encoded data removed]"
          },
          "metadata": {}
        }
      ]
    },
    {
      "cell_type": "markdown",
      "metadata": {
        "id": "EBOac5Q6XBOY"
      },
      "source": [
        "Matriks di atas diadopsi dari confusion matrix yang tadi sudah dibuat tetapi untuk ini diberikan warna supaya lebih nyaman dilihat daripada berupa array."
      ]
    }
  ]
}